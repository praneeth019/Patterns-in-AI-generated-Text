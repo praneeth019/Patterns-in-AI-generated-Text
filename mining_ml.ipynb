{
  "cells": [
    {
      "cell_type": "code",
      "execution_count": null,
      "metadata": {},
      "outputs": [],
      "source": [
        "import pandas as pd\n",
        "import numpy as np\n",
        "import matplotlib.pyplot as plt\n",
        "import seaborn as sns\n",
        "import warnings\n",
        "from sklearn.model_selection import train_test_split\n",
        "from sklearn.feature_extraction.text import CountVectorizer, TfidfVectorizer\n",
        "from sklearn.ensemble import RandomForestClassifier\n",
        "from sklearn.metrics import accuracy_score, classification_report, confusion_matrix\n",
        "from hyperopt import fmin, hp, tpe\n"
      ]
    },
    {
      "cell_type": "code",
      "execution_count": null,
      "metadata": {},
      "outputs": [],
      "source": [
        "\n",
        "# Suppress warnings for cleaner output\n",
        "warnings.filterwarnings('ignore')\n",
        "\n",
        "# Mount Google Drive (for Google Colab usage)\n",
        "from google.colab import drive\n",
        "drive.mount('/content/drive')\n"
      ]
    },
    {
      "cell_type": "code",
      "execution_count": null,
      "metadata": {},
      "outputs": [],
      "source": [
        "# Load the dataset\n",
        "equal_sample_df = pd.read_csv('path_to_data')\n",
        "\n",
        "# Check initial class distribution\n",
        "print(\"Initial class distribution:\")\n",
        "print(equal_sample_df['source'].value_counts())\n"
      ]
    },
    {
      "cell_type": "code",
      "execution_count": null,
      "metadata": {},
      "outputs": [],
      "source": [
        "\n",
        "# Create balanced dataset\n",
        "# Separate the data by label\n",
        "human_data = equal_sample_df[equal_sample_df[\"source\"] == 0]\n",
        "ai_data = equal_sample_df[equal_sample_df[\"source\"] == 1]\n",
        "\n",
        "# Sample equal amounts from each class (20,000 samples each)\n",
        "human_sampled = human_data.sample(n=20000, random_state=42)\n",
        "ai_data = ai_data.sample(n=20000, random_state=42)\n",
        "\n",
        "# Combine the downsampled human data with the AI data\n",
        "equal_sample_df = pd.concat([human_sampled, ai_data], ignore_index=True)\n",
        "\n",
        "# Shuffle the dataset for randomness\n",
        "equal_sample_df = equal_sample_df.sample(frac=1, random_state=42).reset_index(drop=True)\n"
      ]
    },
    {
      "cell_type": "code",
      "execution_count": null,
      "metadata": {},
      "outputs": [],
      "source": [
        "# Verify balanced classes\n",
        "print(\"Balanced class distribution:\")\n",
        "print(equal_sample_df['source'].value_counts())\n",
        "\n",
        "# Split data into training and testing sets (70/30 split)\n",
        "X = equal_sample_df  # Features\n",
        "y = equal_sample_df['source']  # Target variable\n",
        "X_train, X_test, y_train, y_test = train_test_split(\n",
        "    X, y, test_size=0.3, random_state=72, stratify=y\n",
        ")\n",
        "\n",
        "# Report split sizes\n",
        "print(\"X_train shape:\", X_train.shape)\n",
        "print(\"X_test shape:\", X_test.shape)\n",
        "print(\"y_train shape:\", y_train.shape)\n",
        "print(\"y_test shape:\", y_test.shape)\n"
      ]
    },
    {
      "cell_type": "code",
      "execution_count": null,
      "metadata": {},
      "outputs": [],
      "source": [
        "\n",
        "# Feature extraction methods\n",
        "\n",
        "# 1. Bag of Words approach\n",
        "vectorizer = CountVectorizer()\n",
        "X_train_bow = vectorizer.fit_transform(X_train['text'])\n",
        "X_test_bow = vectorizer.transform(X_test['text'])\n",
        "\n",
        "# 2. TF-IDF approach\n",
        "tfidf_vectorizer = TfidfVectorizer()\n",
        "X_train_bow = tfidf_vectorizer.fit_transform(X_train['text'])\n",
        "X_test_bow = tfidf_vectorizer.transform(X_test['text'])\n",
        "\n",
        "# Initial Random Forest model with default parameters\n",
        "rf_model = RandomForestClassifier(n_estimators=400, random_state=42)\n",
        "rf_model.fit(X_train_bow, y_train)\n",
        "y_pred = rf_model.predict(X_test_bow)\n"
      ]
    },
    {
      "cell_type": "code",
      "execution_count": null,
      "metadata": {},
      "outputs": [],
      "source": [
        "\n",
        "# Evaluate initial model\n",
        "print(\"Initial Random Forest Model Performance:\")\n",
        "print(\"Accuracy:\", accuracy_score(y_test, y_pred))\n",
        "print(\"\\nClassification Report:\\n\", classification_report(y_test, y_pred))\n",
        "print(\"\\nConfusion Matrix:\\n\", confusion_matrix(y_test, y_pred))\n"
      ]
    },
    {
      "cell_type": "code",
      "execution_count": null,
      "metadata": {},
      "outputs": [],
      "source": [
        "\n",
        "# Hyperparameter optimization functions\n",
        "def rf_objective(params):\n",
        "    \"\"\"Objective function for hyperparameter optimization\"\"\"\n",
        "    rf_model = RandomForestClassifier(**params)\n",
        "    rf_model.fit(X_train_bow, y_train)\n",
        "    y_pred = rf_model.predict(X_test_bow)\n",
        "    accuracy = accuracy_score(y_test, y_pred)\n",
        "    return -accuracy  # Negative because we want to maximize accuracy\n",
        "\n",
        "# Define hyperparameter search space\n",
        "space = {\n",
        "    'n_estimators': hp.choice('n_estimators', range(100, 1000)),\n",
        "    'max_depth': hp.choice('max_depth', range(1, 10)),\n",
        "    'criterion': hp.choice('criterion', ['gini', 'entropy', 'log_loss']),\n",
        "    'max_features': hp.choice('max_features', ['sqrt', 'log2']),\n",
        "    'min_samples_split': hp.choice('min_samples_split', [2, 5, 10]),\n",
        "}\n"
      ]
    },
    {
      "cell_type": "code",
      "execution_count": null,
      "metadata": {},
      "outputs": [],
      "source": [
        "\n",
        "# Use Hyperopt to find the best hyperparameters\n",
        "best_rf = fmin(fn=rf_objective, space=space, algo=tpe.suggest, max_evals=50)\n",
        "\n",
        "# Map the hyperopt choices back to their actual values\n",
        "criterion_options = ['gini', 'entropy', 'log_loss']\n",
        "best_rf['criterion'] = criterion_options[best_rf['criterion']]\n",
        "\n",
        "max_features_options = ['sqrt', 'log2']\n",
        "best_rf['max_features'] = max_features_options[best_rf['max_features']]\n",
        "\n",
        "min_samples_split_options = [2, 5, 10]\n",
        "best_rf['min_samples_split'] = min_samples_split_options[best_rf['min_samples_split']]\n",
        "\n",
        "print(\"Best Random Forest Hyperparameters:\", best_rf)\n"
      ]
    },
    {
      "cell_type": "code",
      "execution_count": null,
      "metadata": {},
      "outputs": [],
      "source": [
        "\n",
        "# Train the final Random Forest model with the optimized hyperparameters\n",
        "rf_model_final = RandomForestClassifier(**best_rf)\n",
        "rf_model_final.fit(X_train_bow, y_train)\n",
        "rf_model_final_predictions = rf_model_final.predict(X_test_bow)\n"
      ]
    },
    {
      "cell_type": "code",
      "execution_count": null,
      "metadata": {},
      "outputs": [],
      "source": [
        "\n",
        "# Evaluate the final model\n",
        "print(\"Optimized Random Forest Model Performance:\")\n",
        "print(\"Accuracy:\", accuracy_score(y_test, rf_model_final_predictions))\n",
        "print(\"\\nClassification Report:\\n\", classification_report(y_test, rf_model_final_predictions))\n",
        "print(\"\\nConfusion Matrix:\\n\", confusion_matrix(y_test, rf_model_final_predictions))"
      ]
    }
  ],
  "metadata": {
    "colab": {
      "provenance": []
    },
    "kernelspec": {
      "display_name": "Python 3",
      "name": "python3"
    },
    "language_info": {
      "name": "python"
    }
  },
  "nbformat": 4,
  "nbformat_minor": 0
}
